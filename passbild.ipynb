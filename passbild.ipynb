{
 "cells": [
  {
   "cell_type": "code",
   "execution_count": null,
   "metadata": {},
   "outputs": [],
   "source": [
    "from enum import Enum\n",
    "from PIL import Image\n",
    "from typing import Optional, Tuple\n",
    "import numpy as np\n",
    "import numpy.typing as npt\n",
    "import matplotlib.pyplot as plt"
   ]
  },
  {
   "cell_type": "code",
   "execution_count": null,
   "metadata": {},
   "outputs": [],
   "source": [
    "class FailReason(Enum):\n",
    "    DIMENSIONS, GREYSCALE = range(2)\n",
    "\n",
    "def correct_dimensions(im: npt.NDArray) -> bool:\n",
    "    correct_width = np.round(im.shape[0] / 45 * 35)\n",
    "\n",
    "    return im.shape[1] == correct_width\n",
    "\n",
    "def is_color_image(im: npt.NDArray) -> bool:\n",
    "    try:\n",
    "        is_rgb = im.shape[2] == 3\n",
    "    except IndexError:\n",
    "        is_rgb == False\n",
    "\n",
    "    return is_rgb and not (im[..., 0] == im[..., 1]).all() and not (im[..., 1] == im[..., 2]).all()\n",
    "\n",
    "def is_passbild(im: npt.NDArray) -> Tuple[bool, Optional[FailReason]]:\n",
    "    checks = {\n",
    "        correct_dimensions: FailReason.DIMENSIONS,\n",
    "        is_color_image: FailReason.GREYSCALE,\n",
    "    }\n",
    "\n",
    "    for check_func, fail_reason in checks.items():\n",
    "        if not check_func(im):\n",
    "            return False, fail_reason\n",
    "    \n",
    "    return True, None"
   ]
  },
  {
   "cell_type": "code",
   "execution_count": null,
   "metadata": {},
   "outputs": [],
   "source": [
    "im = np.array(Image.open('inputs/kein_passbild.jpeg'))\n",
    "\n",
    "reason_message = {\n",
    "    FailReason.DIMENSIONS: 'Ein richtiges Passbild muss 45mm hoch und 35mm breit sein.',\n",
    "    FailReason.GREYSCALE: 'Ein richtiges Passbild muss in Farbe sein.',\n",
    "}\n",
    "\n",
    "result, reason = is_passbild(im)\n",
    "\n",
    "if result:\n",
    "    title = 'Passbild :)'\n",
    "    message = 'Das ist ein Passbild!'\n",
    "else:\n",
    "    title = 'Kein Passbild :('\n",
    "    message = f'Das ist leider kein Passbild! {reason_message[reason]}'\n",
    "\n",
    "plt.imshow(im)\n",
    "plt.axis('off')\n",
    "plt.title(title)\n",
    "plt.show()\n",
    "\n",
    "print(message)"
   ]
  }
 ],
 "metadata": {
  "kernelspec": {
   "display_name": ".venv",
   "language": "python",
   "name": "python3"
  },
  "language_info": {
   "codemirror_mode": {
    "name": "ipython",
    "version": 3
   },
   "file_extension": ".py",
   "mimetype": "text/x-python",
   "name": "python",
   "nbconvert_exporter": "python",
   "pygments_lexer": "ipython3",
   "version": "3.11.4"
  },
  "orig_nbformat": 4
 },
 "nbformat": 4,
 "nbformat_minor": 2
}
